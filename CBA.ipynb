{
  "nbformat": 4,
  "nbformat_minor": 0,
  "metadata": {
    "colab": {
      "provenance": []
    },
    "kernelspec": {
      "name": "python3",
      "display_name": "Python 3"
    },
    "language_info": {
      "name": "python"
    }
  },
  "cells": [
    {
      "cell_type": "code",
      "source": [
        "!pip install pyspark\n",
        "!pip install dataprep\n",
        "!pip install pyspark[pandas_on_spark] plotly"
      ],
      "metadata": {
        "colab": {
          "base_uri": "https://localhost:8080/"
        },
        "id": "KeZItFZCigAA",
        "outputId": "56754b3c-18d5-41e9-821c-3c88eb68783b"
      },
      "execution_count": null,
      "outputs": [
        {
          "output_type": "stream",
          "name": "stdout",
          "text": [
            "Looking in indexes: https://pypi.org/simple, https://us-python.pkg.dev/colab-wheels/public/simple/\n",
            "Collecting pyspark\n",
            "  Downloading pyspark-3.3.1.tar.gz (281.4 MB)\n",
            "\u001b[2K     \u001b[90m━━━━━━━━━━━━━━━━━━━━━━━━━━━━━━━━━━━━━━━\u001b[0m \u001b[32m281.4/281.4 MB\u001b[0m \u001b[31m4.8 MB/s\u001b[0m eta \u001b[36m0:00:00\u001b[0m\n",
            "\u001b[?25h  Preparing metadata (setup.py) ... \u001b[?25l\u001b[?25hdone\n",
            "Collecting py4j==0.10.9.5\n",
            "  Downloading py4j-0.10.9.5-py2.py3-none-any.whl (199 kB)\n",
            "\u001b[2K     \u001b[90m━━━━━━━━━━━━━━━━━━━━━━━━━━━━━━━━━━━━━━\u001b[0m \u001b[32m199.7/199.7 KB\u001b[0m \u001b[31m16.7 MB/s\u001b[0m eta \u001b[36m0:00:00\u001b[0m\n",
            "\u001b[?25hBuilding wheels for collected packages: pyspark\n",
            "  Building wheel for pyspark (setup.py) ... \u001b[?25l\u001b[?25hdone\n",
            "  Created wheel for pyspark: filename=pyspark-3.3.1-py2.py3-none-any.whl size=281845512 sha256=e5f44d6f42a08ce009cdeae76d4c0e2b1eff8c5725672b4d1be744e0748e09d1\n",
            "  Stored in directory: /root/.cache/pip/wheels/43/dc/11/ec201cd671da62fa9c5cc77078235e40722170ceba231d7598\n",
            "Successfully built pyspark\n",
            "Installing collected packages: py4j, pyspark\n",
            "Successfully installed py4j-0.10.9.5 pyspark-3.3.1\n",
            "Looking in indexes: https://pypi.org/simple, https://us-python.pkg.dev/colab-wheels/public/simple/\n",
            "Collecting dataprep\n",
            "  Downloading dataprep-0.4.5-py3-none-any.whl (9.9 MB)\n",
            "\u001b[2K     \u001b[90m━━━━━━━━━━━━━━━━━━━━━━━━━━━━━━━━━━━━━━━━\u001b[0m \u001b[32m9.9/9.9 MB\u001b[0m \u001b[31m48.4 MB/s\u001b[0m eta \u001b[36m0:00:00\u001b[0m\n",
            "\u001b[?25hCollecting pydot<2.0.0,>=1.4.2\n",
            "  Downloading pydot-1.4.2-py2.py3-none-any.whl (21 kB)\n",
            "Collecting varname<0.9.0,>=0.8.1\n",
            "  Downloading varname-0.8.3-py3-none-any.whl (21 kB)\n",
            "Collecting sqlalchemy==1.3.24\n",
            "  Downloading SQLAlchemy-1.3.24-cp38-cp38-manylinux2010_x86_64.whl (1.3 MB)\n",
            "\u001b[2K     \u001b[90m━━━━━━━━━━━━━━━━━━━━━━━━━━━━━━━━━━━━━━━━\u001b[0m \u001b[32m1.3/1.3 MB\u001b[0m \u001b[31m68.1 MB/s\u001b[0m eta \u001b[36m0:00:00\u001b[0m\n",
            "\u001b[?25hCollecting python-stdnum<2.0,>=1.16\n",
            "  Downloading python_stdnum-1.18-py2.py3-none-any.whl (1.0 MB)\n",
            "\u001b[2K     \u001b[90m━━━━━━━━━━━━━━━━━━━━━━━━━━━━━━━━━━━━━━━━\u001b[0m \u001b[32m1.0/1.0 MB\u001b[0m \u001b[31m64.8 MB/s\u001b[0m eta \u001b[36m0:00:00\u001b[0m\n",
            "\u001b[?25hCollecting jsonpath-ng<2.0,>=1.5\n",
            "  Downloading jsonpath_ng-1.5.3-py3-none-any.whl (29 kB)\n",
            "Requirement already satisfied: pydantic<2.0,>=1.6 in /usr/local/lib/python3.8/dist-packages (from dataprep) (1.10.4)\n",
            "Collecting python-crfsuite==0.9.8\n",
            "  Downloading python_crfsuite-0.9.8-cp38-cp38-manylinux_2_17_x86_64.manylinux2014_x86_64.whl (1.0 MB)\n",
            "\u001b[2K     \u001b[90m━━━━━━━━━━━━━━━━━━━━━━━━━━━━━━━━━━━━━━━━\u001b[0m \u001b[32m1.0/1.0 MB\u001b[0m \u001b[31m61.1 MB/s\u001b[0m eta \u001b[36m0:00:00\u001b[0m\n",
            "\u001b[?25hCollecting metaphone<0.7,>=0.6\n",
            "  Downloading Metaphone-0.6.tar.gz (14 kB)\n",
            "  Preparing metadata (setup.py) ... \u001b[?25l\u001b[?25hdone\n",
            "Collecting scipy<2.0,>=1.8\n",
            "  Downloading scipy-1.10.0-cp38-cp38-manylinux_2_17_x86_64.manylinux2014_x86_64.whl (34.5 MB)\n",
            "\u001b[2K     \u001b[90m━━━━━━━━━━━━━━━━━━━━━━━━━━━━━━━━━━━━━━━━\u001b[0m \u001b[32m34.5/34.5 MB\u001b[0m \u001b[31m34.1 MB/s\u001b[0m eta \u001b[36m0:00:00\u001b[0m\n",
            "\u001b[?25hRequirement already satisfied: bokeh<3,>=2 in /usr/local/lib/python3.8/dist-packages (from dataprep) (2.3.3)\n",
            "Requirement already satisfied: nltk<4.0.0,>=3.6.7 in /usr/local/lib/python3.8/dist-packages (from dataprep) (3.7)\n",
            "Requirement already satisfied: tqdm<5.0,>=4.48 in /usr/local/lib/python3.8/dist-packages (from dataprep) (4.64.1)\n",
            "Requirement already satisfied: wordcloud<2.0,>=1.8 in /usr/local/lib/python3.8/dist-packages (from dataprep) (1.8.2.2)\n",
            "Requirement already satisfied: aiohttp<4.0,>=3.6 in /usr/local/lib/python3.8/dist-packages (from dataprep) (3.8.3)\n",
            "Collecting jinja2<3.1,>=3.0\n",
            "  Downloading Jinja2-3.0.3-py3-none-any.whl (133 kB)\n",
            "\u001b[2K     \u001b[90m━━━━━━━━━━━━━━━━━━━━━━━━━━━━━━━━━━━━━━\u001b[0m \u001b[32m133.6/133.6 KB\u001b[0m \u001b[31m15.0 MB/s\u001b[0m eta \u001b[36m0:00:00\u001b[0m\n",
            "\u001b[?25hRequirement already satisfied: ipywidgets<8.0,>=7.5 in /usr/local/lib/python3.8/dist-packages (from dataprep) (7.7.1)\n",
            "Collecting flask<3,>=2\n",
            "  Downloading Flask-2.2.2-py3-none-any.whl (101 kB)\n",
            "\u001b[2K     \u001b[90m━━━━━━━━━━━━━━━━━━━━━━━━━━━━━━━━━━━━━━━\u001b[0m \u001b[32m101.5/101.5 KB\u001b[0m \u001b[31m9.7 MB/s\u001b[0m eta \u001b[36m0:00:00\u001b[0m\n",
            "\u001b[?25hCollecting dask[array,dataframe,delayed]>=2022.3.0\n",
            "  Downloading dask-2023.1.0-py3-none-any.whl (1.1 MB)\n",
            "\u001b[2K     \u001b[90m━━━━━━━━━━━━━━━━━━━━━━━━━━━━━━━━━━━━━━━━\u001b[0m \u001b[32m1.1/1.1 MB\u001b[0m \u001b[31m66.5 MB/s\u001b[0m eta \u001b[36m0:00:00\u001b[0m\n",
            "\u001b[?25hRequirement already satisfied: pandas<2.0,>=1.1 in /usr/local/lib/python3.8/dist-packages (from dataprep) (1.3.5)\n",
            "Collecting rapidfuzz<3.0.0,>=2.1.2\n",
            "  Downloading rapidfuzz-2.13.7-cp38-cp38-manylinux_2_17_x86_64.manylinux2014_x86_64.whl (2.2 MB)\n",
            "\u001b[2K     \u001b[90m━━━━━━━━━━━━━━━━━━━━━━━━━━━━━━━━━━━━━━━━\u001b[0m \u001b[32m2.2/2.2 MB\u001b[0m \u001b[31m81.6 MB/s\u001b[0m eta \u001b[36m0:00:00\u001b[0m\n",
            "\u001b[?25hCollecting regex<2022.0.0,>=2021.8.3\n",
            "  Downloading regex-2021.11.10-cp38-cp38-manylinux_2_17_x86_64.manylinux2014_x86_64.whl (764 kB)\n",
            "\u001b[2K     \u001b[90m━━━━━━━━━━━━━━━━━━━━━━━━━━━━━━━━━━━━━━\u001b[0m \u001b[32m764.7/764.7 KB\u001b[0m \u001b[31m53.7 MB/s\u001b[0m eta \u001b[36m0:00:00\u001b[0m\n",
            "\u001b[?25hCollecting flask_cors<4.0.0,>=3.0.10\n",
            "  Downloading Flask_Cors-3.0.10-py2.py3-none-any.whl (14 kB)\n",
            "Requirement already satisfied: numpy<2.0,>=1.21 in /usr/local/lib/python3.8/dist-packages (from dataprep) (1.21.6)\n",
            "Requirement already satisfied: frozenlist>=1.1.1 in /usr/local/lib/python3.8/dist-packages (from aiohttp<4.0,>=3.6->dataprep) (1.3.3)\n",
            "Requirement already satisfied: multidict<7.0,>=4.5 in /usr/local/lib/python3.8/dist-packages (from aiohttp<4.0,>=3.6->dataprep) (6.0.4)\n",
            "Requirement already satisfied: yarl<2.0,>=1.0 in /usr/local/lib/python3.8/dist-packages (from aiohttp<4.0,>=3.6->dataprep) (1.8.2)\n",
            "Requirement already satisfied: async-timeout<5.0,>=4.0.0a3 in /usr/local/lib/python3.8/dist-packages (from aiohttp<4.0,>=3.6->dataprep) (4.0.2)\n",
            "Requirement already satisfied: attrs>=17.3.0 in /usr/local/lib/python3.8/dist-packages (from aiohttp<4.0,>=3.6->dataprep) (22.2.0)\n",
            "Requirement already satisfied: charset-normalizer<3.0,>=2.0 in /usr/local/lib/python3.8/dist-packages (from aiohttp<4.0,>=3.6->dataprep) (2.1.1)\n",
            "Requirement already satisfied: aiosignal>=1.1.2 in /usr/local/lib/python3.8/dist-packages (from aiohttp<4.0,>=3.6->dataprep) (1.3.1)\n",
            "Requirement already satisfied: tornado>=5.1 in /usr/local/lib/python3.8/dist-packages (from bokeh<3,>=2->dataprep) (6.0.4)\n",
            "Requirement already satisfied: packaging>=16.8 in /usr/local/lib/python3.8/dist-packages (from bokeh<3,>=2->dataprep) (21.3)\n",
            "Requirement already satisfied: PyYAML>=3.10 in /usr/local/lib/python3.8/dist-packages (from bokeh<3,>=2->dataprep) (6.0)\n",
            "Requirement already satisfied: python-dateutil>=2.1 in /usr/local/lib/python3.8/dist-packages (from bokeh<3,>=2->dataprep) (2.8.2)\n",
            "Requirement already satisfied: typing-extensions>=3.7.4 in /usr/local/lib/python3.8/dist-packages (from bokeh<3,>=2->dataprep) (4.4.0)\n",
            "Requirement already satisfied: pillow>=7.1.0 in /usr/local/lib/python3.8/dist-packages (from bokeh<3,>=2->dataprep) (7.1.2)\n",
            "Requirement already satisfied: cloudpickle>=1.1.1 in /usr/local/lib/python3.8/dist-packages (from dask[array,dataframe,delayed]>=2022.3.0->dataprep) (2.2.0)\n",
            "Requirement already satisfied: partd>=0.3.10 in /usr/local/lib/python3.8/dist-packages (from dask[array,dataframe,delayed]>=2022.3.0->dataprep) (1.3.0)\n",
            "Requirement already satisfied: fsspec>=0.6.0 in /usr/local/lib/python3.8/dist-packages (from dask[array,dataframe,delayed]>=2022.3.0->dataprep) (2022.11.0)\n",
            "Requirement already satisfied: click>=7.0 in /usr/local/lib/python3.8/dist-packages (from dask[array,dataframe,delayed]>=2022.3.0->dataprep) (7.1.2)\n",
            "Requirement already satisfied: toolz>=0.8.2 in /usr/local/lib/python3.8/dist-packages (from dask[array,dataframe,delayed]>=2022.3.0->dataprep) (0.12.0)\n",
            "Collecting click>=7.0\n",
            "  Downloading click-8.1.3-py3-none-any.whl (96 kB)\n",
            "\u001b[2K     \u001b[90m━━━━━━━━━━━━━━━━━━━━━━━━━━━━━━━━━━━━━━━━\u001b[0m \u001b[32m96.6/96.6 KB\u001b[0m \u001b[31m10.3 MB/s\u001b[0m eta \u001b[36m0:00:00\u001b[0m\n",
            "\u001b[?25hRequirement already satisfied: importlib-metadata>=3.6.0 in /usr/local/lib/python3.8/dist-packages (from flask<3,>=2->dataprep) (6.0.0)\n",
            "Collecting itsdangerous>=2.0\n",
            "  Downloading itsdangerous-2.1.2-py3-none-any.whl (15 kB)\n",
            "Collecting Werkzeug>=2.2.2\n",
            "  Downloading Werkzeug-2.2.2-py3-none-any.whl (232 kB)\n",
            "\u001b[2K     \u001b[90m━━━━━━━━━━━━━━━━━━━━━━━━━━━━━━━━━━━━━━\u001b[0m \u001b[32m232.7/232.7 KB\u001b[0m \u001b[31m24.8 MB/s\u001b[0m eta \u001b[36m0:00:00\u001b[0m\n",
            "\u001b[?25hRequirement already satisfied: Six in /usr/local/lib/python3.8/dist-packages (from flask_cors<4.0.0,>=3.0.10->dataprep) (1.15.0)\n",
            "Requirement already satisfied: ipykernel>=4.5.1 in /usr/local/lib/python3.8/dist-packages (from ipywidgets<8.0,>=7.5->dataprep) (5.3.4)\n",
            "Requirement already satisfied: ipython-genutils~=0.2.0 in /usr/local/lib/python3.8/dist-packages (from ipywidgets<8.0,>=7.5->dataprep) (0.2.0)\n",
            "Requirement already satisfied: jupyterlab-widgets>=1.0.0 in /usr/local/lib/python3.8/dist-packages (from ipywidgets<8.0,>=7.5->dataprep) (3.0.5)\n",
            "Requirement already satisfied: ipython>=4.0.0 in /usr/local/lib/python3.8/dist-packages (from ipywidgets<8.0,>=7.5->dataprep) (7.9.0)\n",
            "Requirement already satisfied: widgetsnbextension~=3.6.0 in /usr/local/lib/python3.8/dist-packages (from ipywidgets<8.0,>=7.5->dataprep) (3.6.1)\n",
            "Requirement already satisfied: traitlets>=4.3.1 in /usr/local/lib/python3.8/dist-packages (from ipywidgets<8.0,>=7.5->dataprep) (5.7.1)\n",
            "Requirement already satisfied: MarkupSafe>=2.0 in /usr/local/lib/python3.8/dist-packages (from jinja2<3.1,>=3.0->dataprep) (2.0.1)\n",
            "Requirement already satisfied: decorator in /usr/local/lib/python3.8/dist-packages (from jsonpath-ng<2.0,>=1.5->dataprep) (4.4.2)\n",
            "Collecting ply\n",
            "  Downloading ply-3.11-py2.py3-none-any.whl (49 kB)\n",
            "\u001b[2K     \u001b[90m━━━━━━━━━━━━━━━━━━━━━━━━━━━━━━━━━━━━━━━━\u001b[0m \u001b[32m49.6/49.6 KB\u001b[0m \u001b[31m5.7 MB/s\u001b[0m eta \u001b[36m0:00:00\u001b[0m\n",
            "\u001b[?25hRequirement already satisfied: joblib in /usr/local/lib/python3.8/dist-packages (from nltk<4.0.0,>=3.6.7->dataprep) (1.2.0)\n",
            "Requirement already satisfied: pytz>=2017.3 in /usr/local/lib/python3.8/dist-packages (from pandas<2.0,>=1.1->dataprep) (2022.7)\n",
            "Requirement already satisfied: pyparsing>=2.1.4 in /usr/local/lib/python3.8/dist-packages (from pydot<2.0.0,>=1.4.2->dataprep) (3.0.9)\n",
            "Collecting pure_eval<1.0.0\n",
            "  Downloading pure_eval-0.2.2-py3-none-any.whl (11 kB)\n",
            "Collecting executing<0.9.0,>=0.8.3\n",
            "  Downloading executing-0.8.3-py2.py3-none-any.whl (16 kB)\n",
            "Collecting asttokens<3.0.0,>=2.0.0\n",
            "  Downloading asttokens-2.2.1-py2.py3-none-any.whl (26 kB)\n",
            "Requirement already satisfied: matplotlib in /usr/local/lib/python3.8/dist-packages (from wordcloud<2.0,>=1.8->dataprep) (3.2.2)\n",
            "Requirement already satisfied: zipp>=0.5 in /usr/local/lib/python3.8/dist-packages (from importlib-metadata>=3.6.0->flask<3,>=2->dataprep) (3.11.0)\n",
            "Requirement already satisfied: jupyter-client in /usr/local/lib/python3.8/dist-packages (from ipykernel>=4.5.1->ipywidgets<8.0,>=7.5->dataprep) (6.1.12)\n",
            "Requirement already satisfied: setuptools>=18.5 in /usr/local/lib/python3.8/dist-packages (from ipython>=4.0.0->ipywidgets<8.0,>=7.5->dataprep) (57.4.0)\n",
            "Requirement already satisfied: pickleshare in /usr/local/lib/python3.8/dist-packages (from ipython>=4.0.0->ipywidgets<8.0,>=7.5->dataprep) (0.7.5)\n",
            "Requirement already satisfied: prompt-toolkit<2.1.0,>=2.0.0 in /usr/local/lib/python3.8/dist-packages (from ipython>=4.0.0->ipywidgets<8.0,>=7.5->dataprep) (2.0.10)\n",
            "Requirement already satisfied: backcall in /usr/local/lib/python3.8/dist-packages (from ipython>=4.0.0->ipywidgets<8.0,>=7.5->dataprep) (0.2.0)\n",
            "Requirement already satisfied: pexpect in /usr/local/lib/python3.8/dist-packages (from ipython>=4.0.0->ipywidgets<8.0,>=7.5->dataprep) (4.8.0)\n",
            "Collecting jedi>=0.10\n",
            "  Downloading jedi-0.18.2-py2.py3-none-any.whl (1.6 MB)\n",
            "\u001b[2K     \u001b[90m━━━━━━━━━━━━━━━━━━━━━━━━━━━━━━━━━━━━━━━━\u001b[0m \u001b[32m1.6/1.6 MB\u001b[0m \u001b[31m75.8 MB/s\u001b[0m eta \u001b[36m0:00:00\u001b[0m\n",
            "\u001b[?25hRequirement already satisfied: pygments in /usr/local/lib/python3.8/dist-packages (from ipython>=4.0.0->ipywidgets<8.0,>=7.5->dataprep) (2.6.1)\n",
            "Requirement already satisfied: locket in /usr/local/lib/python3.8/dist-packages (from partd>=0.3.10->dask[array,dataframe,delayed]>=2022.3.0->dataprep) (1.0.0)\n",
            "Collecting MarkupSafe>=2.0\n",
            "  Downloading MarkupSafe-2.1.2-cp38-cp38-manylinux_2_17_x86_64.manylinux2014_x86_64.whl (25 kB)\n",
            "Requirement already satisfied: notebook>=4.4.1 in /usr/local/lib/python3.8/dist-packages (from widgetsnbextension~=3.6.0->ipywidgets<8.0,>=7.5->dataprep) (5.7.16)\n",
            "Requirement already satisfied: idna>=2.0 in /usr/local/lib/python3.8/dist-packages (from yarl<2.0,>=1.0->aiohttp<4.0,>=3.6->dataprep) (2.10)\n",
            "Requirement already satisfied: kiwisolver>=1.0.1 in /usr/local/lib/python3.8/dist-packages (from matplotlib->wordcloud<2.0,>=1.8->dataprep) (1.4.4)\n",
            "Requirement already satisfied: cycler>=0.10 in /usr/local/lib/python3.8/dist-packages (from matplotlib->wordcloud<2.0,>=1.8->dataprep) (0.11.0)\n",
            "Requirement already satisfied: parso<0.9.0,>=0.8.0 in /usr/local/lib/python3.8/dist-packages (from jedi>=0.10->ipython>=4.0.0->ipywidgets<8.0,>=7.5->dataprep) (0.8.3)\n",
            "Requirement already satisfied: terminado>=0.8.1 in /usr/local/lib/python3.8/dist-packages (from notebook>=4.4.1->widgetsnbextension~=3.6.0->ipywidgets<8.0,>=7.5->dataprep) (0.13.3)\n",
            "Requirement already satisfied: prometheus-client in /usr/local/lib/python3.8/dist-packages (from notebook>=4.4.1->widgetsnbextension~=3.6.0->ipywidgets<8.0,>=7.5->dataprep) (0.15.0)\n",
            "Requirement already satisfied: nbformat in /usr/local/lib/python3.8/dist-packages (from notebook>=4.4.1->widgetsnbextension~=3.6.0->ipywidgets<8.0,>=7.5->dataprep) (5.7.1)\n",
            "Requirement already satisfied: pyzmq>=17 in /usr/local/lib/python3.8/dist-packages (from notebook>=4.4.1->widgetsnbextension~=3.6.0->ipywidgets<8.0,>=7.5->dataprep) (23.2.1)\n",
            "Requirement already satisfied: jupyter-core>=4.4.0 in /usr/local/lib/python3.8/dist-packages (from notebook>=4.4.1->widgetsnbextension~=3.6.0->ipywidgets<8.0,>=7.5->dataprep) (5.1.3)\n",
            "Collecting jinja2<3.1,>=3.0\n",
            "  Downloading Jinja2-3.0.0-py3-none-any.whl (133 kB)\n",
            "\u001b[2K     \u001b[90m━━━━━━━━━━━━━━━━━━━━━━━━━━━━━━━━━━━━━━\u001b[0m \u001b[32m133.4/133.4 KB\u001b[0m \u001b[31m16.2 MB/s\u001b[0m eta \u001b[36m0:00:00\u001b[0m\n",
            "\u001b[?25hRequirement already satisfied: nbconvert<6.0 in /usr/local/lib/python3.8/dist-packages (from notebook>=4.4.1->widgetsnbextension~=3.6.0->ipywidgets<8.0,>=7.5->dataprep) (5.6.1)\n",
            "Requirement already satisfied: Send2Trash in /usr/local/lib/python3.8/dist-packages (from notebook>=4.4.1->widgetsnbextension~=3.6.0->ipywidgets<8.0,>=7.5->dataprep) (1.8.0)\n",
            "Requirement already satisfied: wcwidth in /usr/local/lib/python3.8/dist-packages (from prompt-toolkit<2.1.0,>=2.0.0->ipython>=4.0.0->ipywidgets<8.0,>=7.5->dataprep) (0.2.5)\n",
            "Requirement already satisfied: ptyprocess>=0.5 in /usr/local/lib/python3.8/dist-packages (from pexpect->ipython>=4.0.0->ipywidgets<8.0,>=7.5->dataprep) (0.7.0)\n",
            "Requirement already satisfied: platformdirs>=2.5 in /usr/local/lib/python3.8/dist-packages (from jupyter-core>=4.4.0->notebook>=4.4.1->widgetsnbextension~=3.6.0->ipywidgets<8.0,>=7.5->dataprep) (2.6.2)\n",
            "Requirement already satisfied: testpath in /usr/local/lib/python3.8/dist-packages (from nbconvert<6.0->notebook>=4.4.1->widgetsnbextension~=3.6.0->ipywidgets<8.0,>=7.5->dataprep) (0.6.0)\n",
            "Requirement already satisfied: bleach in /usr/local/lib/python3.8/dist-packages (from nbconvert<6.0->notebook>=4.4.1->widgetsnbextension~=3.6.0->ipywidgets<8.0,>=7.5->dataprep) (5.0.1)\n",
            "Requirement already satisfied: defusedxml in /usr/local/lib/python3.8/dist-packages (from nbconvert<6.0->notebook>=4.4.1->widgetsnbextension~=3.6.0->ipywidgets<8.0,>=7.5->dataprep) (0.7.1)\n",
            "Requirement already satisfied: mistune<2,>=0.8.1 in /usr/local/lib/python3.8/dist-packages (from nbconvert<6.0->notebook>=4.4.1->widgetsnbextension~=3.6.0->ipywidgets<8.0,>=7.5->dataprep) (0.8.4)\n",
            "Requirement already satisfied: entrypoints>=0.2.2 in /usr/local/lib/python3.8/dist-packages (from nbconvert<6.0->notebook>=4.4.1->widgetsnbextension~=3.6.0->ipywidgets<8.0,>=7.5->dataprep) (0.4)\n",
            "Requirement already satisfied: pandocfilters>=1.4.1 in /usr/local/lib/python3.8/dist-packages (from nbconvert<6.0->notebook>=4.4.1->widgetsnbextension~=3.6.0->ipywidgets<8.0,>=7.5->dataprep) (1.5.0)\n",
            "Requirement already satisfied: fastjsonschema in /usr/local/lib/python3.8/dist-packages (from nbformat->notebook>=4.4.1->widgetsnbextension~=3.6.0->ipywidgets<8.0,>=7.5->dataprep) (2.16.2)\n",
            "Requirement already satisfied: jsonschema>=2.6 in /usr/local/lib/python3.8/dist-packages (from nbformat->notebook>=4.4.1->widgetsnbextension~=3.6.0->ipywidgets<8.0,>=7.5->dataprep) (4.3.3)\n",
            "Requirement already satisfied: pyrsistent!=0.17.0,!=0.17.1,!=0.17.2,>=0.14.0 in /usr/local/lib/python3.8/dist-packages (from jsonschema>=2.6->nbformat->notebook>=4.4.1->widgetsnbextension~=3.6.0->ipywidgets<8.0,>=7.5->dataprep) (0.19.3)\n",
            "Requirement already satisfied: importlib-resources>=1.4.0 in /usr/local/lib/python3.8/dist-packages (from jsonschema>=2.6->nbformat->notebook>=4.4.1->widgetsnbextension~=3.6.0->ipywidgets<8.0,>=7.5->dataprep) (5.10.2)\n",
            "Requirement already satisfied: webencodings in /usr/local/lib/python3.8/dist-packages (from bleach->nbconvert<6.0->notebook>=4.4.1->widgetsnbextension~=3.6.0->ipywidgets<8.0,>=7.5->dataprep) (0.5.1)\n",
            "Building wheels for collected packages: metaphone\n",
            "  Building wheel for metaphone (setup.py) ... \u001b[?25l\u001b[?25hdone\n",
            "  Created wheel for metaphone: filename=Metaphone-0.6-py3-none-any.whl size=13919 sha256=e480ef261425349c8913b7f1c948001577ba4ad2d8aa0d36d2e8828d5bec944f\n",
            "  Stored in directory: /root/.cache/pip/wheels/ea/4e/3b/0634f08a7980461ad630fa4147cbd25913b008b4a02992ba66\n",
            "Successfully built metaphone\n",
            "Installing collected packages: regex, python-stdnum, python-crfsuite, pure_eval, ply, metaphone, executing, sqlalchemy, scipy, rapidfuzz, pydot, MarkupSafe, jsonpath-ng, jedi, itsdangerous, click, asttokens, Werkzeug, varname, jinja2, dask, flask, flask_cors, dataprep\n",
            "  Attempting uninstall: regex\n",
            "    Found existing installation: regex 2022.6.2\n",
            "    Uninstalling regex-2022.6.2:\n",
            "      Successfully uninstalled regex-2022.6.2\n",
            "  Attempting uninstall: sqlalchemy\n",
            "    Found existing installation: SQLAlchemy 1.4.46\n",
            "    Uninstalling SQLAlchemy-1.4.46:\n",
            "      Successfully uninstalled SQLAlchemy-1.4.46\n",
            "  Attempting uninstall: scipy\n",
            "    Found existing installation: scipy 1.7.3\n",
            "    Uninstalling scipy-1.7.3:\n",
            "      Successfully uninstalled scipy-1.7.3\n",
            "  Attempting uninstall: pydot\n",
            "    Found existing installation: pydot 1.3.0\n",
            "    Uninstalling pydot-1.3.0:\n",
            "      Successfully uninstalled pydot-1.3.0\n",
            "  Attempting uninstall: MarkupSafe\n",
            "    Found existing installation: MarkupSafe 2.0.1\n",
            "    Uninstalling MarkupSafe-2.0.1:\n",
            "      Successfully uninstalled MarkupSafe-2.0.1\n",
            "  Attempting uninstall: itsdangerous\n",
            "    Found existing installation: itsdangerous 1.1.0\n",
            "    Uninstalling itsdangerous-1.1.0:\n",
            "      Successfully uninstalled itsdangerous-1.1.0\n",
            "  Attempting uninstall: click\n",
            "    Found existing installation: click 7.1.2\n",
            "    Uninstalling click-7.1.2:\n",
            "      Successfully uninstalled click-7.1.2\n",
            "  Attempting uninstall: Werkzeug\n",
            "    Found existing installation: Werkzeug 1.0.1\n",
            "    Uninstalling Werkzeug-1.0.1:\n",
            "      Successfully uninstalled Werkzeug-1.0.1\n",
            "  Attempting uninstall: jinja2\n",
            "    Found existing installation: Jinja2 2.11.3\n",
            "    Uninstalling Jinja2-2.11.3:\n",
            "      Successfully uninstalled Jinja2-2.11.3\n",
            "  Attempting uninstall: dask\n",
            "    Found existing installation: dask 2022.2.1\n",
            "    Uninstalling dask-2022.2.1:\n",
            "      Successfully uninstalled dask-2022.2.1\n",
            "  Attempting uninstall: flask\n",
            "    Found existing installation: Flask 1.1.4\n",
            "    Uninstalling Flask-1.1.4:\n",
            "      Successfully uninstalled Flask-1.1.4\n",
            "\u001b[31mERROR: pip's dependency resolver does not currently take into account all the packages that are installed. This behaviour is the source of the following dependency conflicts.\n",
            "distributed 2022.2.1 requires dask==2022.02.1, but you have dask 2023.1.0 which is incompatible.\u001b[0m\u001b[31m\n",
            "\u001b[0mSuccessfully installed MarkupSafe-2.1.2 Werkzeug-2.2.2 asttokens-2.2.1 click-8.1.3 dask-2023.1.0 dataprep-0.4.5 executing-0.8.3 flask-2.2.2 flask_cors-3.0.10 itsdangerous-2.1.2 jedi-0.18.2 jinja2-3.0.0 jsonpath-ng-1.5.3 metaphone-0.6 ply-3.11 pure_eval-0.2.2 pydot-1.4.2 python-crfsuite-0.9.8 python-stdnum-1.18 rapidfuzz-2.13.7 regex-2021.11.10 scipy-1.10.0 sqlalchemy-1.3.24 varname-0.8.3\n",
            "Looking in indexes: https://pypi.org/simple, https://us-python.pkg.dev/colab-wheels/public/simple/\n",
            "Requirement already satisfied: pyspark[pandas_on_spark] in /usr/local/lib/python3.8/dist-packages (3.3.1)\n",
            "Requirement already satisfied: plotly in /usr/local/lib/python3.8/dist-packages (5.5.0)\n",
            "Requirement already satisfied: py4j==0.10.9.5 in /usr/local/lib/python3.8/dist-packages (from pyspark[pandas_on_spark]) (0.10.9.5)\n",
            "Requirement already satisfied: numpy>=1.15 in /usr/local/lib/python3.8/dist-packages (from pyspark[pandas_on_spark]) (1.21.6)\n",
            "Requirement already satisfied: pyarrow>=1.0.0 in /usr/local/lib/python3.8/dist-packages (from pyspark[pandas_on_spark]) (9.0.0)\n",
            "Requirement already satisfied: pandas>=1.0.5 in /usr/local/lib/python3.8/dist-packages (from pyspark[pandas_on_spark]) (1.3.5)\n",
            "Requirement already satisfied: tenacity>=6.2.0 in /usr/local/lib/python3.8/dist-packages (from plotly) (8.1.0)\n",
            "Requirement already satisfied: six in /usr/local/lib/python3.8/dist-packages (from plotly) (1.15.0)\n",
            "Requirement already satisfied: python-dateutil>=2.7.3 in /usr/local/lib/python3.8/dist-packages (from pandas>=1.0.5->pyspark[pandas_on_spark]) (2.8.2)\n",
            "Requirement already satisfied: pytz>=2017.3 in /usr/local/lib/python3.8/dist-packages (from pandas>=1.0.5->pyspark[pandas_on_spark]) (2022.7)\n"
          ]
        }
      ]
    },
    {
      "cell_type": "code",
      "execution_count": null,
      "metadata": {
        "colab": {
          "base_uri": "https://localhost:8080/"
        },
        "id": "eEahs27BiXic",
        "outputId": "c825b3b3-3baa-4fbf-a18b-d407e209a4cb"
      },
      "outputs": [
        {
          "output_type": "stream",
          "name": "stdout",
          "text": [
            "Mounted at /content/drive\n"
          ]
        }
      ],
      "source": [
        "import pyspark\n",
        "from pyspark.sql.functions import col\n",
        "from pyspark.sql.functions import when\n",
        "from dataprep.eda import create_report\n",
        "from pyspark.mllib.linalg import Vectors\n",
        "from pyspark.ml.feature import VectorIndexer\n",
        "from pyspark.ml.feature import StringIndexer\n",
        "from pyspark.ml import Pipeline\n",
        "from sklearn.preprocessing import OneHotEncoder\n",
        "from pyspark.ml.feature import VectorAssembler\n",
        "from matplotlib.ticker import MaxNLocator\n",
        "import matplotlib.pyplot as plt\n",
        "import numpy as np\n",
        "from sklearn.cluster import KMeans\n",
        "import pandas as pd\n",
        "from pyspark.sql.functions import substring, expr\n",
        "\n",
        "from google.colab import drive\n",
        "drive.mount('/content/drive')\n",
        "\n",
        "spark = pyspark.sql.SparkSession.builder.appName(\"eCommerce data\").getOrCreate()\n",
        "\n",
        "oct_df_path=\"/content/drive/MyDrive/Dataset/cie427_big_data/2019-Oct.csv\"\n",
        "nov_df_path=\"/content/drive/MyDrive/Dataset/cie427_big_data/2019-Nov.csv\"\n",
        "oct_df_million_path=\"/content/drive/MyDrive/Dataset/cie427_big_data/oct_df_million.csv\"\n",
        "output_path = \"/content/drive/MyDrive/Dataset/cie427_big_data/\""
      ]
    },
    {
      "cell_type": "code",
      "source": [
        "df = spark.read.option(\"header\",True).csv(oct_df_million_path)\n",
        "\n",
        "#df.to_csv(\"oct_df_million.csv\",index=False)\n",
        "\n",
        "df.head(10)"
      ],
      "metadata": {
        "colab": {
          "base_uri": "https://localhost:8080/"
        },
        "id": "GHyOo_AZijxD",
        "outputId": "30947bed-0f91-419e-8366-e1fa1625e5f1"
      },
      "execution_count": null,
      "outputs": [
        {
          "output_type": "execute_result",
          "data": {
            "text/plain": [
              "[Row(event_time='2019-10-01 00:00:00 UTC', event_type='view', product_id='44600062', category_id='2103807459595387724', category_code=None, brand='shiseido', price='35.79', user_id='541312140', user_session='72d76fde-8bb3-4e00-8c23-a032dfed738c'),\n",
              " Row(event_time='2019-10-01 00:00:00 UTC', event_type='view', product_id='3900821', category_id='2053013552326770905', category_code='appliances.environment.water_heater', brand='aqua', price='33.2', user_id='554748717', user_session='9333dfbd-b87a-4708-9857-6336556b0fcc'),\n",
              " Row(event_time='2019-10-01 00:00:01 UTC', event_type='view', product_id='17200506', category_id='2053013559792632471', category_code='furniture.living_room.sofa', brand=None, price='543.1', user_id='519107250', user_session='566511c2-e2e3-422b-b695-cf8e6e792ca8'),\n",
              " Row(event_time='2019-10-01 00:00:01 UTC', event_type='view', product_id='1307067', category_id='2053013558920217191', category_code='computers.notebook', brand='lenovo', price='251.74', user_id='550050854', user_session='7c90fc70-0e80-4590-96f3-13c02c18c713'),\n",
              " Row(event_time='2019-10-01 00:00:04 UTC', event_type='view', product_id='1004237', category_id='2053013555631882655', category_code='electronics.smartphone', brand='apple', price='1081.98', user_id='535871217', user_session='c6bd7419-2748-4c56-95b4-8cec9ff8b80d'),\n",
              " Row(event_time='2019-10-01 00:00:05 UTC', event_type='view', product_id='1480613', category_id='2053013561092866779', category_code='computers.desktop', brand='pulser', price='908.62', user_id='512742880', user_session='0d0d91c2-c9c2-4e81-90a5-86594dec0db9'),\n",
              " Row(event_time='2019-10-01 00:00:08 UTC', event_type='view', product_id='17300353', category_id='2053013553853497655', category_code=None, brand='creed', price='380.96', user_id='555447699', user_session='4fe811e9-91de-46da-90c3-bbd87ed3a65d'),\n",
              " Row(event_time='2019-10-01 00:00:08 UTC', event_type='view', product_id='31500053', category_id='2053013558031024687', category_code=None, brand='luminarc', price='41.16', user_id='550978835', user_session='6280d577-25c8-4147-99a7-abc6048498d6'),\n",
              " Row(event_time='2019-10-01 00:00:10 UTC', event_type='view', product_id='28719074', category_id='2053013565480109009', category_code='apparel.shoes.keds', brand='baden', price='102.71', user_id='520571932', user_session='ac1cd4e5-a3ce-4224-a2d7-ff660a105880'),\n",
              " Row(event_time='2019-10-01 00:00:11 UTC', event_type='view', product_id='1004545', category_id='2053013555631882655', category_code='electronics.smartphone', brand='huawei', price='566.01', user_id='537918940', user_session='406c46ed-90a4-4787-a43b-59a410c1a5fb')]"
            ]
          },
          "metadata": {},
          "execution_count": 3
        }
      ]
    },
    {
      "cell_type": "markdown",
      "metadata": {
        "id": "e48f8ec0"
      },
      "source": [
        "#### take a look at the dataframe"
      ]
    },
    {
      "cell_type": "code",
      "execution_count": null,
      "metadata": {
        "id": "8b9adc25",
        "colab": {
          "base_uri": "https://localhost:8080/"
        },
        "outputId": "4303ab9f-4743-4387-e193-5e0ecde36b1c"
      },
      "outputs": [
        {
          "output_type": "stream",
          "name": "stdout",
          "text": [
            "+--------------------+----------+----------+-------------------+--------------------+--------+-------+---------+--------------------+\n",
            "|          event_time|event_type|product_id|        category_id|       category_code|   brand|  price|  user_id|        user_session|\n",
            "+--------------------+----------+----------+-------------------+--------------------+--------+-------+---------+--------------------+\n",
            "|2019-10-01 00:00:...|      view|  44600062|2103807459595387724|                null|shiseido|  35.79|541312140|72d76fde-8bb3-4e0...|\n",
            "|2019-10-01 00:00:...|      view|   3900821|2053013552326770905|appliances.enviro...|    aqua|   33.2|554748717|9333dfbd-b87a-470...|\n",
            "|2019-10-01 00:00:...|      view|  17200506|2053013559792632471|furniture.living_...|    null|  543.1|519107250|566511c2-e2e3-422...|\n",
            "|2019-10-01 00:00:...|      view|   1307067|2053013558920217191|  computers.notebook|  lenovo| 251.74|550050854|7c90fc70-0e80-459...|\n",
            "|2019-10-01 00:00:...|      view|   1004237|2053013555631882655|electronics.smart...|   apple|1081.98|535871217|c6bd7419-2748-4c5...|\n",
            "+--------------------+----------+----------+-------------------+--------------------+--------+-------+---------+--------------------+\n",
            "only showing top 5 rows\n",
            "\n"
          ]
        }
      ],
      "source": [
        "df.show(5)"
      ]
    },
    {
      "cell_type": "markdown",
      "metadata": {
        "id": "5b7e782d"
      },
      "source": [
        "#### filter out null categories"
      ]
    },
    {
      "cell_type": "code",
      "execution_count": null,
      "metadata": {
        "id": "84255955"
      },
      "outputs": [],
      "source": [
        "df_not_null = df.where(col(\"category_code\") != \"null\")"
      ]
    },
    {
      "cell_type": "markdown",
      "metadata": {
        "id": "fe8122a9"
      },
      "source": [
        "#### only keep one entry per user, product, and event"
      ]
    },
    {
      "cell_type": "code",
      "execution_count": null,
      "metadata": {
        "id": "54daef2e"
      },
      "outputs": [],
      "source": [
        "df_final = df_not_null.dropDuplicates(subset=['user_id', 'product_id', 'event_type'])"
      ]
    },
    {
      "cell_type": "markdown",
      "metadata": {
        "id": "7b251815"
      },
      "source": [
        "#### correct data by replacing category_code \"construction.tools.light\" by \"electronics.smartphone\""
      ]
    },
    {
      "cell_type": "code",
      "execution_count": null,
      "metadata": {
        "id": "8a1aad01"
      },
      "outputs": [],
      "source": [
        "df_corrected = df_final.withColumn(\"category_code\",\n",
        "                                      when(col(\"category_code\") == \"construction.tools.light\",\n",
        "                                           \"electronics.smartphone\").otherwise(col(\"category_code\")))"
      ]
    },
    {
      "cell_type": "markdown",
      "source": [
        "#Exploratory Data Analysis (EDA)"
      ],
      "metadata": {
        "id": "q4v147t4ggeH"
      }
    },
    {
      "cell_type": "code",
      "source": [
        "df_market = df\n",
        "df_market = df_market.dropDuplicates()\n",
        "#df_market=df_market.drop(*['event_time','product_id', 'user_id', 'user_session'])"
      ],
      "metadata": {
        "id": "_pH-L7p9gkrx"
      },
      "execution_count": null,
      "outputs": []
    },
    {
      "cell_type": "code",
      "source": [
        "from pyspark.sql.functions import sum\n",
        "df_market.select(*(sum(col(c).isNull().cast(\"int\")).alias(c) for c in df_market.columns)).show()"
      ],
      "metadata": {
        "colab": {
          "base_uri": "https://localhost:8080/"
        },
        "id": "o2abZINrgf9e",
        "outputId": "79279087-a18c-4bd2-f8af-79cd9532c51d"
      },
      "execution_count": null,
      "outputs": [
        {
          "output_type": "stream",
          "name": "stdout",
          "text": [
            "+----------+----------+----------+-----------+-------------+------+-----+-------+------------+\n",
            "|event_time|event_type|product_id|category_id|category_code| brand|price|user_id|user_session|\n",
            "+----------+----------+----------+-----------+-------------+------+-----+-------+------------+\n",
            "|         0|         0|         0|          0|       318053|147550|    0|      0|           0|\n",
            "+----------+----------+----------+-----------+-------------+------+-----+-------+------------+\n",
            "\n"
          ]
        }
      ]
    },
    {
      "cell_type": "code",
      "source": [
        "df_market = df_market.dropna()\n",
        "df_market.select(*(sum(col(c).isNull().cast(\"int\")).alias(c) for c in df_market.columns)).show()"
      ],
      "metadata": {
        "colab": {
          "base_uri": "https://localhost:8080/"
        },
        "id": "HNJpg2yoidbG",
        "outputId": "d8b50492-7e90-439f-f834-8cf3e2f9f299"
      },
      "execution_count": null,
      "outputs": [
        {
          "output_type": "stream",
          "name": "stdout",
          "text": [
            "+----------+----------+----------+-----------+-------------+-----+-----+-------+------------+\n",
            "|event_time|event_type|product_id|category_id|category_code|brand|price|user_id|user_session|\n",
            "+----------+----------+----------+-----------+-------------+-----+-----+-------+------------+\n",
            "|         0|         0|         0|          0|            0|    0|    0|      0|           0|\n",
            "+----------+----------+----------+-----------+-------------+-----+-----+-------+------------+\n",
            "\n"
          ]
        }
      ]
    },
    {
      "cell_type": "code",
      "source": [
        "df_market.printSchema()"
      ],
      "metadata": {
        "colab": {
          "base_uri": "https://localhost:8080/"
        },
        "id": "slQxQ2jtrc_w",
        "outputId": "537557ea-c898-4b04-bc0a-1955b43bb9d0"
      },
      "execution_count": null,
      "outputs": [
        {
          "output_type": "stream",
          "name": "stdout",
          "text": [
            "root\n",
            " |-- event_time: string (nullable = true)\n",
            " |-- event_type: string (nullable = true)\n",
            " |-- product_id: string (nullable = true)\n",
            " |-- category_id: string (nullable = true)\n",
            " |-- category_code: string (nullable = true)\n",
            " |-- brand: string (nullable = true)\n",
            " |-- price: string (nullable = true)\n",
            " |-- user_id: string (nullable = true)\n",
            " |-- user_session: string (nullable = true)\n",
            "\n"
          ]
        }
      ]
    },
    {
      "cell_type": "code",
      "source": [
        "df_pandas = df_market.select(substring(col(\"price\").cast(\"float\"), 0, 10).alias(\"avg_price\"), substring(col(\"event_time\"), 0, 10).alias(\"day\")).toPandas()\n"
      ],
      "metadata": {
        "id": "0uc33MwqwB8y"
      },
      "execution_count": null,
      "outputs": []
    },
    {
      "cell_type": "code",
      "source": [
        "\n",
        "# convert the column to numeric data type\n",
        "df_pandas['avg_price'] = pd.to_numeric(df_pandas['avg_price'], errors='coerce')\n",
        "df_pandas['day'] = pd.to_datetime(df_pandas['day'])\n",
        "\n",
        "# Set the 'day' column as the index\n",
        "df_pandas.set_index('day', inplace=True)\n",
        "\n",
        "# Plot the data\n",
        "df_pandas.plot()\n",
        "plt.xlabel(\"Day\")\n",
        "plt.ylabel(\"Avg Price\")\n",
        "plt.title(\"Avg Price over Time\")\n",
        "plt.show()"
      ],
      "metadata": {
        "colab": {
          "base_uri": "https://localhost:8080/",
          "height": 293
        },
        "id": "yQktWLzg3i1L",
        "outputId": "417cbacd-7a64-4fe8-c0a3-b82cdb9042fd"
      },
      "execution_count": null,
      "outputs": [
        {
          "output_type": "display_data",
          "data": {
            "text/plain": [
              "<Figure size 432x288 with 1 Axes>"
            ],
            "image/png": "[encoded data removed]"
          },
          "metadata": {
            "needs_background": "light"
          }
        }
      ]
    },
    {
      "cell_type": "code",
      "source": [
        "df_2 = df_market.select(col(\"price\").cast(\"float\").alias(\"avg_price\")).toPandas()\n",
        "df_2.info()"
      ],
      "metadata": {
        "colab": {
          "base_uri": "https://localhost:8080/"
        },
        "id": "FfN15rOG9PCC",
        "outputId": "db8810ff-9704-43b0-9f24-9604270f297b"
      },
      "execution_count": null,
      "outputs": [
        {
          "output_type": "stream",
          "name": "stdout",
          "text": [
            "<class 'pandas.core.frame.DataFrame'>\n",
            "RangeIndex: 627805 entries, 0 to 627804\n",
            "Data columns (total 1 columns):\n",
            " #   Column     Non-Null Count   Dtype  \n",
            "---  ------     --------------   -----  \n",
            " 0   avg_price  627805 non-null  float32\n",
            "dtypes: float32(1)\n",
            "memory usage: 2.4 MB\n"
          ]
        }
      ]
    },
    {
      "cell_type": "code",
      "source": [
        "from pyspark.sql.functions import floor\n",
        "from pyspark.sql.functions import col\n",
        "\n",
        "#col(\"price\").cast(\"float\").alias(\"avg_price\")\n",
        "\n",
        "df_samsung_purchase = df_market.select(\n",
        "    col(\"category_code\").alias(\"code\"), \n",
        "    col(\"brand\").alias(\"brand\")\n",
        ").where(\n",
        "    (col(\"event_type\") == 'purchase')\n",
        ").toPandas()\n",
        "\n",
        "print(df_samsung_purchase)\n"
      ],
      "metadata": {
        "colab": {
          "base_uri": "https://localhost:8080/"
        },
        "id": "cYiLgk0Ulmdv",
        "outputId": "b29a2c06-fbd4-4e41-9112-63dd19a690a2"
      },
      "execution_count": null,
      "outputs": [
        {
          "output_type": "stream",
          "name": "stdout",
          "text": [
            "                                code    brand\n",
            "0             electronics.smartphone  samsung\n",
            "1             electronics.smartphone    apple\n",
            "2             electronics.smartphone    apple\n",
            "3             electronics.smartphone    apple\n",
            "4      computers.peripherals.printer    epson\n",
            "...                              ...      ...\n",
            "12824   construction.tools.generator  polaris\n",
            "12825         electronics.smartphone  samsung\n",
            "12826                  apparel.shoes  respect\n",
            "12827         electronics.smartphone     oppo\n",
            "12828         electronics.smartphone  samsung\n",
            "\n",
            "[12829 rows x 2 columns]\n"
          ]
        }
      ]
    },
    {
      "cell_type": "code",
      "source": [
        "import matplotlib.pyplot as plt\n",
        "\n",
        "# Count the values in the two columns\n",
        "df_plot = df_samsung_purchase.groupby(['code','brand']).size().reset_index(name='counts')\n",
        "\n",
        "\n",
        "import seaborn as sns\n",
        "top_10_brands = df_samsung_purchase['brand'].value_counts().nlargest(10)\n",
        "plt.figure(figsize=(30,25))\n",
        "sns.countplot(y='brand', data=df_samsung_purchase, order=top_10_brands.index)"
      ],
      "metadata": {
        "colab": {
          "base_uri": "https://localhost:8080/",
          "height": 922
        },
        "id": "IO5kHYGgn2ew",
        "outputId": "37c1d1d3-f774-42b2-ee00-14d8e089e644"
      },
      "execution_count": null,
      "outputs": [
        {
          "output_type": "execute_result",
          "data": {
            "text/plain": [
              "<matplotlib.axes._subplots.AxesSubplot at 0x7fd6b35e10a0>"
            ]
          },
          "metadata": {},
          "execution_count": 53
        },
        {
          "output_type": "display_data",
          "data": {
            "text/plain": [
              "<Figure size 2160x1800 with 1 Axes>"
            ],
            "image/png": "[encoded data removed]"
          },
          "metadata": {
            "needs_background": "light"
          }
        }
      ]
    },
    {
      "cell_type": "code",
      "source": [
        "df_samsung_purchase['code'].unique()"
      ],
      "metadata": {
        "colab": {
          "base_uri": "https://localhost:8080/"
        },
        "id": "l_UYA9ztqu-p",
        "outputId": "45f8a002-4aaa-4fe4-c418-5ccb41686508"
      },
      "execution_count": null,
      "outputs": [
        {
          "output_type": "execute_result",
          "data": {
            "text/plain": [
              "array(['electronics.smartphone', 'computers.peripherals.printer',\n",
              "       'electronics.audio.subwoofer', 'electronics.clocks',\n",
              "       'computers.components.memory', 'appliances.kitchen.mixer',\n",
              "       'appliances.personal.hair_cutter', 'electronics.video.tv',\n",
              "       'computers.notebook', 'appliances.environment.water_heater',\n",
              "       'computers.peripherals.monitor', 'computers.desktop',\n",
              "       'appliances.kitchen.hood', 'construction.tools.painting',\n",
              "       'accessories.bag', 'appliances.kitchen.coffee_machine',\n",
              "       'electronics.audio.headphone', 'kids.skates',\n",
              "       'appliances.environment.air_heater', 'apparel.shoes.keds',\n",
              "       'electronics.tablet', 'appliances.kitchen.toster',\n",
              "       'electronics.telephone', 'appliances.environment.vacuum',\n",
              "       'appliances.kitchen.kettle', 'electronics.audio.acoustic',\n",
              "       'auto.accessories.alarm', 'appliances.kitchen.washer',\n",
              "       'construction.tools.generator', 'auto.accessories.player',\n",
              "       'appliances.kitchen.microwave', 'appliances.kitchen.oven',\n",
              "       'computers.peripherals.mouse', 'sport.trainer',\n",
              "       'computers.components.hdd', 'appliances.kitchen.refrigerators',\n",
              "       'construction.tools.light', 'appliances.kitchen.blender',\n",
              "       'computers.peripherals.keyboard', 'auto.accessories.videoregister',\n",
              "       'construction.tools.drill', 'apparel.shoes',\n",
              "       'appliances.kitchen.meat_grinder', 'furniture.kitchen.chair',\n",
              "       'appliances.sewing_machine', 'furniture.living_room.chair',\n",
              "       'construction.tools.saw', 'kids.carriage', 'appliances.iron',\n",
              "       'furniture.kitchen.table', 'kids.fmcg.diapers',\n",
              "       'appliances.ironing_board', 'furniture.bathroom.bath',\n",
              "       'sport.bicycle', 'furniture.living_room.cabinet',\n",
              "       'apparel.underwear', 'appliances.personal.scales',\n",
              "       'appliances.kitchen.hob', 'computers.components.videocards',\n",
              "       'furniture.bedroom.blanket', 'electronics.audio.music_tools.piano',\n",
              "       'computers.components.cooler', 'kids.swing',\n",
              "       'appliances.kitchen.dishwasher', 'construction.components.faucet',\n",
              "       'auto.accessories.compressor', 'accessories.umbrella',\n",
              "       'medicine.tools.tonometer', 'computers.components.cpu',\n",
              "       'computers.ebooks', 'apparel.trousers', 'furniture.bedroom.bed',\n",
              "       'stationery.cartrige', 'electronics.audio.microphone',\n",
              "       'appliances.kitchen.grill', 'appliances.kitchen.juicer',\n",
              "       'computers.components.power_supply', 'furniture.bathroom.toilet',\n",
              "       'appliances.kitchen.steam_cooker', 'construction.tools.welding',\n",
              "       'kids.dolls', 'country_yard.lawn_mower',\n",
              "       'appliances.environment.air_conditioner', 'kids.toys',\n",
              "       'electronics.video.projector', 'auto.accessories.radar',\n",
              "       'accessories.wallet', 'computers.components.motherboard',\n",
              "       'appliances.kitchen.coffee_grinder', 'electronics.camera.video',\n",
              "       'construction.tools.pump', 'country_yard.cultivator',\n",
              "       'apparel.tshirt', 'appliances.environment.fan',\n",
              "       'furniture.living_room.sofa', 'furniture.bedroom.pillow',\n",
              "       'appliances.personal.massager', 'auto.accessories.parktronic'],\n",
              "      dtype=object)"
            ]
          },
          "metadata": {},
          "execution_count": 51
        }
      ]
    },
    {
      "cell_type": "code",
      "source": [
        "\n",
        "top_10_codes = df_samsung_purchase['code'].value_counts().nlargest(10)\n",
        "plt.figure(figsize=(30,25))\n",
        "sns.countplot(y='code', data=df_samsung_purchase, order=top_10_codes.index)"
      ],
      "metadata": {
        "colab": {
          "base_uri": "https://localhost:8080/",
          "height": 861
        },
        "id": "JbK5boPEpXss",
        "outputId": "3a9859a3-56b8-458e-9731-095a98019d55"
      },
      "execution_count": null,
      "outputs": [
        {
          "output_type": "execute_result",
          "data": {
            "text/plain": [
              "<matplotlib.axes._subplots.AxesSubplot at 0x7fd6b62e6f40>"
            ]
          },
          "metadata": {},
          "execution_count": 54
        },
        {
          "output_type": "display_data",
          "data": {
            "text/plain": [
              "<Figure size 2160x1800 with 1 Axes>"
            ],
            "image/png": "[encoded data removed]"
          },
          "metadata": {
            "needs_background": "light"
          }
        }
      ]
    },
    {
      "cell_type": "code",
      "source": [
        "df_purchase_count = df_samsung_purchase.groupby(\"code\").size().reset_index(name='counts')\n",
        "df_purchase_count = df_purchase_count.sort_values(by='counts', ascending=False)\n",
        "df_purchase_count"
      ],
      "metadata": {
        "colab": {
          "base_uri": "https://localhost:8080/",
          "height": 423
        },
        "id": "3Pc9T7C4GXdp",
        "outputId": "cf66d80c-e927-439e-8d2a-a6e78ef7bbe3"
      },
      "execution_count": null,
      "outputs": [
        {
          "output_type": "execute_result",
          "data": {
            "text/plain": [
              "                               code  counts\n",
              "73           electronics.smartphone    7916\n",
              "67      electronics.audio.headphone     771\n",
              "77             electronics.video.tv     443\n",
              "51               computers.notebook     407\n",
              "72               electronics.clocks     383\n",
              "..                              ...     ...\n",
              "64          country_yard.cultivator       1\n",
              "1              accessories.umbrella       1\n",
              "29  appliances.kitchen.steam_cooker       1\n",
              "38      auto.accessories.parktronic       1\n",
              "65          country_yard.lawn_mower       1\n",
              "\n",
              "[98 rows x 2 columns]"
            ],
            "text/html": [
              "\n",
              "  <div id=\"df-b3176cc9-9b84-4e5d-9e1a-f4d16a2843ce\">\n",
              "    <div class=\"colab-df-container\">\n",
              "      <div>\n",
              "<style scoped>\n",
              "    .dataframe tbody tr th:only-of-type {\n",
              "        vertical-align: middle;\n",
              "    }\n",
              "\n",
              "    .dataframe tbody tr th {\n",
              "        vertical-align: top;\n",
              "    }\n",
              "\n",
              "    .dataframe thead th {\n",
              "        text-align: right;\n",
              "    }\n",
              "</style>\n",
              "<table border=\"1\" class=\"dataframe\">\n",
              "  <thead>\n",
              "    <tr style=\"text-align: right;\">\n",
              "      <th></th>\n",
              "      <th>code</th>\n",
              "      <th>counts</th>\n",
              "    </tr>\n",
              "  </thead>\n",
              "  <tbody>\n",
              "    <tr>\n",
              "      <th>73</th>\n",
              "      <td>electronics.smartphone</td>\n",
              "      <td>7916</td>\n",
              "    </tr>\n",
              "    <tr>\n",
              "      <th>67</th>\n",
              "      <td>electronics.audio.headphone</td>\n",
              "      <td>771</td>\n",
              "    </tr>\n",
              "    <tr>\n",
              "      <th>77</th>\n",
              "      <td>electronics.video.tv</td>\n",
              "      <td>443</td>\n",
              "    </tr>\n",
              "    <tr>\n",
              "      <th>51</th>\n",
              "      <td>computers.notebook</td>\n",
              "      <td>407</td>\n",
              "    </tr>\n",
              "    <tr>\n",
              "      <th>72</th>\n",
              "      <td>electronics.clocks</td>\n",
              "      <td>383</td>\n",
              "    </tr>\n",
              "    <tr>\n",
              "      <th>...</th>\n",
              "      <td>...</td>\n",
              "      <td>...</td>\n",
              "    </tr>\n",
              "    <tr>\n",
              "      <th>64</th>\n",
              "      <td>country_yard.cultivator</td>\n",
              "      <td>1</td>\n",
              "    </tr>\n",
              "    <tr>\n",
              "      <th>1</th>\n",
              "      <td>accessories.umbrella</td>\n",
              "      <td>1</td>\n",
              "    </tr>\n",
              "    <tr>\n",
              "      <th>29</th>\n",
              "      <td>appliances.kitchen.steam_cooker</td>\n",
              "      <td>1</td>\n",
              "    </tr>\n",
              "    <tr>\n",
              "      <th>38</th>\n",
              "      <td>auto.accessories.parktronic</td>\n",
              "      <td>1</td>\n",
              "    </tr>\n",
              "    <tr>\n",
              "      <th>65</th>\n",
              "      <td>country_yard.lawn_mower</td>\n",
              "      <td>1</td>\n",
              "    </tr>\n",
              "  </tbody>\n",
              "</table>\n",
              "<p>98 rows × 2 columns</p>\n",
              "</div>\n",
              "      <button class=\"colab-df-convert\" onclick=\"convertToInteractive('df-b3176cc9-9b84-4e5d-9e1a-f4d16a2843ce')\"\n",
              "              title=\"Convert this dataframe to an interactive table.\"\n",
              "              style=\"display:none;\">\n",
              "        \n",
              "  <svg xmlns=\"http://www.w3.org/2000/svg\" height=\"24px\"viewBox=\"0 0 24 24\"\n",
              "       width=\"24px\">\n",
              "    <path d=\"M0 0h24v24H0V0z\" fill=\"none\"/>\n",
              "    <path d=\"M18.56 5.44l.94 2.06.94-2.06 2.06-.94-2.06-.94-.94-2.06-.94 2.06-2.06.94zm-11 1L8.5 8.5l.94-2.06 2.06-.94-2.06-.94L8.5 2.5l-.94 2.06-2.06.94zm10 10l.94 2.06.94-2.06 2.06-.94-2.06-.94-.94-2.06-.94 2.06-2.06.94z\"/><path d=\"M17.41 7.96l-1.37-1.37c-.4-.4-.92-.59-1.43-.59-.52 0-1.04.2-1.43.59L10.3 9.45l-7.72 7.72c-.78.78-.78 2.05 0 2.83L4 21.41c.39.39.9.59 1.41.59.51 0 1.02-.2 1.41-.59l7.78-7.78 2.81-2.81c.8-.78.8-2.07 0-2.86zM5.41 20L4 18.59l7.72-7.72 1.47 1.35L5.41 20z\"/>\n",
              "  </svg>\n",
              "      </button>\n",
              "      \n",
              "  <style>\n",
              "    .colab-df-container {\n",
              "      display:flex;\n",
              "      flex-wrap:wrap;\n",
              "      gap: 12px;\n",
              "    }\n",
              "\n",
              "    .colab-df-convert {\n",
              "      background-color: #E8F0FE;\n",
              "      border: none;\n",
              "      border-radius: 50%;\n",
              "      cursor: pointer;\n",
              "      display: none;\n",
              "      fill: #1967D2;\n",
              "      height: 32px;\n",
              "      padding: 0 0 0 0;\n",
              "      width: 32px;\n",
              "    }\n",
              "\n",
              "    .colab-df-convert:hover {\n",
              "      background-color: #E2EBFA;\n",
              "      box-shadow: 0px 1px 2px rgba(60, 64, 67, 0.3), 0px 1px 3px 1px rgba(60, 64, 67, 0.15);\n",
              "      fill: #174EA6;\n",
              "    }\n",
              "\n",
              "    [theme=dark] .colab-df-convert {\n",
              "      background-color: #3B4455;\n",
              "      fill: #D2E3FC;\n",
              "    }\n",
              "\n",
              "    [theme=dark] .colab-df-convert:hover {\n",
              "      background-color: #434B5C;\n",
              "      box-shadow: 0px 1px 3px 1px rgba(0, 0, 0, 0.15);\n",
              "      filter: drop-shadow(0px 1px 2px rgba(0, 0, 0, 0.3));\n",
              "      fill: #FFFFFF;\n",
              "    }\n",
              "  </style>\n",
              "\n",
              "      <script>\n",
              "        const buttonEl =\n",
              "          document.querySelector('#df-b3176cc9-9b84-4e5d-9e1a-f4d16a2843ce button.colab-df-convert');\n",
              "        buttonEl.style.display =\n",
              "          google.colab.kernel.accessAllowed ? 'block' : 'none';\n",
              "\n",
              "        async function convertToInteractive(key) {\n",
              "          const element = document.querySelector('#df-b3176cc9-9b84-4e5d-9e1a-f4d16a2843ce');\n",
              "          const dataTable =\n",
              "            await google.colab.kernel.invokeFunction('convertToInteractive',\n",
              "                                                     [key], {});\n",
              "          if (!dataTable) return;\n",
              "\n",
              "          const docLinkHtml = 'Like what you see? Visit the ' +\n",
              "            '<a target=\"_blank\" href=https://colab.research.google.com/notebooks/data_table.ipynb>data table notebook</a>'\n",
              "            + ' to learn more about interactive tables.';\n",
              "          element.innerHTML = '';\n",
              "          dataTable['output_type'] = 'display_data';\n",
              "          await google.colab.output.renderOutput(dataTable, element);\n",
              "          const docLink = document.createElement('div');\n",
              "          docLink.innerHTML = docLinkHtml;\n",
              "          element.appendChild(docLink);\n",
              "        }\n",
              "      </script>\n",
              "    </div>\n",
              "  </div>\n",
              "  "
            ]
          },
          "metadata": {},
          "execution_count": 55
        }
      ]
    },
    {
      "cell_type": "code",
      "source": [
        "df_purchase_count_top10 = df_purchase_count.head(10)\n",
        "\n",
        "plt.figure(figsize=(10,5))\n",
        "plt.bar(df_purchase_count_top10['code'], df_purchase_count_top10['counts'])\n",
        "plt.xlabel('Category Code')\n",
        "plt.ylabel('Number of Purchases')\n",
        "plt.title('Top 10 Most Purchased Category Codes')\n",
        "plt.xticks(rotation=90)\n",
        "plt.show()\n"
      ],
      "metadata": {
        "colab": {
          "base_uri": "https://localhost:8080/",
          "height": 514
        },
        "id": "YlXGQk1KImmV",
        "outputId": "b95aa034-17ec-4fe4-c3a2-93613cd65a7c"
      },
      "execution_count": null,
      "outputs": [
        {
          "output_type": "display_data",
          "data": {
            "text/plain": [
              "<Figure size 720x360 with 1 Axes>"
            ],
            "image/png": "[encoded data removed]"
          },
          "metadata": {
            "needs_background": "light"
          }
        }
      ]
    }
  ]
}